{
 "cells": [
  {
   "cell_type": "markdown",
   "id": "7e0cd3e3",
   "metadata": {},
   "source": [
    "#Assignment-1-Baby Steps Control Structures"
   ]
  },
  {
   "cell_type": "code",
   "execution_count": 15,
   "id": "a9c8d7c8",
   "metadata": {},
   "outputs": [
    {
     "name": "stdout",
     "output_type": "stream",
     "text": [
      "Welcome to Assignment-1\n"
     ]
    }
   ],
   "source": [
    "print(\"Welcome to Assignment-1\")"
   ]
  },
  {
   "cell_type": "code",
   "execution_count": 16,
   "id": "1bd2512d",
   "metadata": {},
   "outputs": [
    {
     "name": "stdout",
     "output_type": "stream",
     "text": [
      "Num1=  10\n",
      "Num2=  30\n",
      "Add=  40\n"
     ]
    }
   ],
   "source": [
    "Num1 = 10\n",
    "Num2 = 30\n",
    "Add = 40\n",
    "print(\"Num1= \", Num1)\n",
    "print(\"Num2= \", Num2)\n",
    "print (\"Add= \", Add)"
   ]
  },
  {
   "cell_type": "markdown",
   "id": "d9c92756",
   "metadata": {},
   "source": [
    "#Body Mass Index\n",
    "Underweight: BMI less than 18.5\n",
    "Normal weight: BMI of 18.5 to 24.9\n",
    "Overweight: BMI of 25 to 29.9\n",
    "Very OverWeight: BMI of 30 or higher"
   ]
  },
  {
   "cell_type": "code",
   "execution_count": 17,
   "id": "8ce4e8a5",
   "metadata": {},
   "outputs": [
    {
     "name": "stdout",
     "output_type": "stream",
     "text": [
      "Enter the BMI Index: 34\n",
      "Very OverWeight\n"
     ]
    }
   ],
   "source": [
    "BMIIndex = float(input(\"Enter the BMI Index: \"))\n",
    "if BMIIndex <= 18.5:\n",
    "    print(\"Under Weight\")\n",
    "elif (BMIIndex > 18.5 and BMIIndex <= 24.9):\n",
    "    print(\"Normal Weight\")\n",
    "elif (BMIIndex > 24.9 and BMIIndex <= 29.9):\n",
    "    print(\"OverWeight\")\n",
    "else:\n",
    "    print(\"Very OverWeight\")"
   ]
  }
 ],
 "metadata": {
  "kernelspec": {
   "display_name": "Python 3 (ipykernel)",
   "language": "python",
   "name": "python3"
  },
  "language_info": {
   "codemirror_mode": {
    "name": "ipython",
    "version": 3
   },
   "file_extension": ".py",
   "mimetype": "text/x-python",
   "name": "python",
   "nbconvert_exporter": "python",
   "pygments_lexer": "ipython3",
   "version": "3.10.9"
  }
 },
 "nbformat": 4,
 "nbformat_minor": 5
}
