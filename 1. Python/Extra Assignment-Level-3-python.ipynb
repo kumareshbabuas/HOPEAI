{
 "cells": [
  {
   "cell_type": "markdown",
   "id": "dedfe2dd",
   "metadata": {},
   "source": [
    "#print 'CORRECT' if i = 10"
   ]
  },
  {
   "cell_type": "code",
   "execution_count": 1,
   "id": "d7fff8ef",
   "metadata": {},
   "outputs": [
    {
     "name": "stdout",
     "output_type": "stream",
     "text": [
      "value: 10\n",
      "Correct\n"
     ]
    }
   ],
   "source": [
    "value = int(input(\"value: \"))\n",
    "if(value == 10):\n",
    "    print(\"Correct\")\n",
    "else:\n",
    "    print(\"Not Correct\")"
   ]
  },
  {
   "cell_type": "markdown",
   "id": "f3df2ce1",
   "metadata": {},
   "source": [
    "#chck the password, using if and else"
   ]
  },
  {
   "cell_type": "code",
   "execution_count": 2,
   "id": "9365e687",
   "metadata": {},
   "outputs": [
    {
     "name": "stdout",
     "output_type": "stream",
     "text": [
      "Enter the password: HOPE@123\n",
      "Your password is correct\n"
     ]
    }
   ],
   "source": [
    "pwd = input(\"Enter the password: \")\n",
    "if (pwd == 'HOPE@123'):\n",
    "    print(\"Your password is correct\")\n",
    "else:\n",
    "     print(\"Your password is wrong\")"
   ]
  },
  {
   "cell_type": "markdown",
   "id": "edcb3575",
   "metadata": {},
   "source": [
    "#Category the people by their age like children, adult, citizen, senior citizen"
   ]
  },
  {
   "cell_type": "code",
   "execution_count": 3,
   "id": "41f7d802",
   "metadata": {},
   "outputs": [
    {
     "name": "stdout",
     "output_type": "stream",
     "text": [
      "age: 20\n",
      "Adult\n"
     ]
    }
   ],
   "source": [
    "age = int(input(\"age: \"))\n",
    "\n",
    "if(age < 18):\n",
    "    print (\"Children\")\n",
    "elif(age < 35):\n",
    "    print (\"Adult\")\n",
    "elif (age < 59):\n",
    "    print (\"Citizen\")  \n",
    "else:\n",
    "    print(\"Senior Citizen\")"
   ]
  },
  {
   "cell_type": "markdown",
   "id": "b460c38a",
   "metadata": {},
   "source": [
    "#Find whether given number is Positive or negative"
   ]
  },
  {
   "cell_type": "code",
   "execution_count": 4,
   "id": "4c614009",
   "metadata": {},
   "outputs": [
    {
     "name": "stdout",
     "output_type": "stream",
     "text": [
      "Enter any number: 1\n",
      "No. is positive\n"
     ]
    }
   ],
   "source": [
    "numb = float(input(\"Enter any number: \"))\n",
    "if (numb > 0):\n",
    "    print(\"No. is positive\")\n",
    "else:\n",
    "    print(\"No.is negative\")"
   ]
  },
  {
   "cell_type": "markdown",
   "id": "2c2f7b18",
   "metadata": {},
   "source": [
    "#check whether the given number is divisible by 5"
   ]
  },
  {
   "cell_type": "code",
   "execution_count": 5,
   "id": "7c5b3b07",
   "metadata": {},
   "outputs": [
    {
     "name": "stdout",
     "output_type": "stream",
     "text": [
      "Enter a number to check: 22\n",
      "No. is not divisible by 5\n"
     ]
    }
   ],
   "source": [
    "numb = float(input(\"Enter a number to check: \"))\n",
    "if(numb % 5 == 0):\n",
    "    print(\"No. is divisible by 5\")\n",
    "else:\n",
    "    print(\"No. is not divisible by 5\")"
   ]
  },
  {
   "cell_type": "code",
   "execution_count": null,
   "id": "ddb39d43",
   "metadata": {},
   "outputs": [],
   "source": []
  }
 ],
 "metadata": {
  "kernelspec": {
   "display_name": "Python 3 (ipykernel)",
   "language": "python",
   "name": "python3"
  },
  "language_info": {
   "codemirror_mode": {
    "name": "ipython",
    "version": 3
   },
   "file_extension": ".py",
   "mimetype": "text/x-python",
   "name": "python",
   "nbconvert_exporter": "python",
   "pygments_lexer": "ipython3",
   "version": "3.10.9"
  }
 },
 "nbformat": 4,
 "nbformat_minor": 5
}
