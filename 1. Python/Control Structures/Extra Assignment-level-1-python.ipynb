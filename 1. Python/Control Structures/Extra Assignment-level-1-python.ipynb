{
 "cells": [
  {
   "cell_type": "markdown",
   "id": "57d67cf5",
   "metadata": {},
   "source": [
    "#print Statment"
   ]
  },
  {
   "cell_type": "code",
   "execution_count": 1,
   "id": "5ef6ba0b",
   "metadata": {},
   "outputs": [
    {
     "name": "stdout",
     "output_type": "stream",
     "text": [
      "HOPE AI\n"
     ]
    }
   ],
   "source": [
    "print(\"HOPE AI\")"
   ]
  },
  {
   "cell_type": "markdown",
   "id": "a9f52fec",
   "metadata": {},
   "source": [
    "#Buy input"
   ]
  },
  {
   "cell_type": "code",
   "execution_count": 2,
   "id": "3732b9ab",
   "metadata": {},
   "outputs": [
    {
     "name": "stdout",
     "output_type": "stream",
     "text": [
      "Enter your institute name? : HOPE AI\n"
     ]
    }
   ],
   "source": [
    "buy = input(\"Enter your institute name? : \")"
   ]
  },
  {
   "cell_type": "markdown",
   "id": "6a7d3055",
   "metadata": {},
   "source": [
    "#Buy Inputs"
   ]
  },
  {
   "cell_type": "code",
   "execution_count": 3,
   "id": "3dd1d85f",
   "metadata": {},
   "outputs": [
    {
     "name": "stdout",
     "output_type": "stream",
     "text": [
      "Enter your name: Raj\n",
      "Enter your age: 15\n",
      "Enter your school name: Guru School\n",
      "Enter your degree: B.E CSE\n"
     ]
    }
   ],
   "source": [
    "name = input(\"Enter your name: \")\n",
    "age = int(input(\"Enter your age: \"))\n",
    "school_name = input(\"Enter your school name: \")\n",
    "degree = input(\"Enter your degree: \")"
   ]
  },
  {
   "cell_type": "markdown",
   "id": "636691de",
   "metadata": {},
   "source": [
    "#Addition"
   ]
  },
  {
   "cell_type": "code",
   "execution_count": 4,
   "id": "61185772",
   "metadata": {
    "scrolled": true
   },
   "outputs": [
    {
     "name": "stdout",
     "output_type": "stream",
     "text": [
      "a = 43\n",
      "a = 34\n",
      "add = 77\n"
     ]
    }
   ],
   "source": [
    "a=43\n",
    "b=34\n",
    "add = a+b\n",
    "\n",
    "print(\"a =\", a)\n",
    "print(\"a =\", b)\n",
    "print(\"add =\", add)\n"
   ]
  },
  {
   "cell_type": "markdown",
   "id": "1e6a679e",
   "metadata": {},
   "source": [
    "#Subtraction"
   ]
  },
  {
   "cell_type": "code",
   "execution_count": 5,
   "id": "e4bb26cf",
   "metadata": {},
   "outputs": [
    {
     "name": "stdout",
     "output_type": "stream",
     "text": [
      "a = 43\n",
      "a = 34\n",
      "sub = 9\n"
     ]
    }
   ],
   "source": [
    "a=43\n",
    "b=34\n",
    "sub = a-b\n",
    "\n",
    "print(\"a =\", a)\n",
    "print(\"a =\", b)\n",
    "print(\"sub =\", sub)"
   ]
  },
  {
   "cell_type": "markdown",
   "id": "faf84931",
   "metadata": {},
   "source": [
    "#Multiplication"
   ]
  },
  {
   "cell_type": "code",
   "execution_count": 6,
   "id": "155b32c2",
   "metadata": {},
   "outputs": [
    {
     "name": "stdout",
     "output_type": "stream",
     "text": [
      "a = 63\n",
      "a = 97\n",
      "Mul = 6111\n"
     ]
    }
   ],
   "source": [
    "a=63\n",
    "b=97\n",
    "Mul = a*b\n",
    "\n",
    "print(\"a =\", a)\n",
    "print(\"a =\", b)\n",
    "print(\"Mul =\", Mul)"
   ]
  },
  {
   "cell_type": "markdown",
   "id": "33dca04a",
   "metadata": {},
   "source": [
    "#Division"
   ]
  },
  {
   "cell_type": "code",
   "execution_count": 7,
   "id": "0d69cd73",
   "metadata": {},
   "outputs": [
    {
     "name": "stdout",
     "output_type": "stream",
     "text": [
      "a = 76\n",
      "a = 31\n",
      "Float Div = 2.4516129032258065\n"
     ]
    }
   ],
   "source": [
    "a=76\n",
    "b=31\n",
    "Div = a/b\n",
    "\n",
    "print(\"a =\", a)\n",
    "print(\"a =\", b)\n",
    "print(\"Float Div =\", Div)"
   ]
  },
  {
   "cell_type": "markdown",
   "id": "40a4249c",
   "metadata": {},
   "source": [
    "#Floor division\n",
    "Floor division is a division operation that returns the largest integer that is less than or equal to the result of the division. In Python, it is denoted by the double forward slash ‘//’."
   ]
  },
  {
   "cell_type": "code",
   "execution_count": 8,
   "id": "923ab898",
   "metadata": {},
   "outputs": [
    {
     "name": "stdout",
     "output_type": "stream",
     "text": [
      "a = 76\n",
      "a = 34\n",
      "Floor Div = 2\n"
     ]
    }
   ],
   "source": [
    "a=76\n",
    "b=34\n",
    "Floor = a//b\n",
    "\n",
    "print(\"a =\", a)\n",
    "print(\"a =\", b)\n",
    "print(\"Floor Div =\", Floor)"
   ]
  },
  {
   "cell_type": "markdown",
   "id": "8f9f56b0",
   "metadata": {},
   "source": [
    "#Modulo"
   ]
  },
  {
   "cell_type": "code",
   "execution_count": 9,
   "id": "e3b61b64",
   "metadata": {},
   "outputs": [
    {
     "name": "stdout",
     "output_type": "stream",
     "text": [
      "a = 76\n",
      "a = 31\n",
      "Modulo = 14\n"
     ]
    }
   ],
   "source": [
    "a=76\n",
    "b=31\n",
    "mod = a%b\n",
    "\n",
    "print(\"a =\", a)\n",
    "print(\"a =\", b)\n",
    "print(\"Modulo =\", mod)"
   ]
  },
  {
   "cell_type": "markdown",
   "id": "b3d6172c",
   "metadata": {},
   "source": [
    "#Power\n",
    "pow() function returns the result of the first parameter raised to the power of the second parameter"
   ]
  },
  {
   "cell_type": "code",
   "execution_count": 10,
   "id": "c8404fd5",
   "metadata": {},
   "outputs": [
    {
     "name": "stdout",
     "output_type": "stream",
     "text": [
      "a = 4\n",
      "a = 4\n",
      "Power = 256\n"
     ]
    }
   ],
   "source": [
    "a=4\n",
    "b=4\n",
    "power = pow(a,b)\n",
    "\n",
    "print(\"a =\", a)\n",
    "print(\"a =\", b)\n",
    "print(\"Power =\", power)"
   ]
  },
  {
   "cell_type": "code",
   "execution_count": null,
   "id": "ba117e52",
   "metadata": {},
   "outputs": [],
   "source": []
  }
 ],
 "metadata": {
  "kernelspec": {
   "display_name": "Python 3 (ipykernel)",
   "language": "python",
   "name": "python3"
  },
  "language_info": {
   "codemirror_mode": {
    "name": "ipython",
    "version": 3
   },
   "file_extension": ".py",
   "mimetype": "text/x-python",
   "name": "python",
   "nbconvert_exporter": "python",
   "pygments_lexer": "ipython3",
   "version": "3.10.9"
  }
 },
 "nbformat": 4,
 "nbformat_minor": 5
}
