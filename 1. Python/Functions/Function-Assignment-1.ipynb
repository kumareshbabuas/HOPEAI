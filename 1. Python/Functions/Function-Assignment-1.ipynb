{
 "cells": [
  {
   "cell_type": "markdown",
   "id": "268e92ac",
   "metadata": {},
   "source": [
    "#create function , and list out the items in the list"
   ]
  },
  {
   "cell_type": "code",
   "execution_count": 7,
   "id": "3b1f4d06",
   "metadata": {},
   "outputs": [],
   "source": [
    "fields = [\"Machine Learning\", \"Neural Networks\",\"Vision\",\"Robotics\",\"Speech Processing\",\"Natural Language Processing\"]"
   ]
  },
  {
   "cell_type": "code",
   "execution_count": 8,
   "id": "f2e143e4",
   "metadata": {},
   "outputs": [],
   "source": [
    "def Subfields():\n",
    "    print(\"Sub-fields in AI are:\")\n",
    "    for field in fields:\n",
    "        print(field)"
   ]
  },
  {
   "cell_type": "code",
   "execution_count": 9,
   "id": "8f1d397f",
   "metadata": {},
   "outputs": [
    {
     "name": "stdout",
     "output_type": "stream",
     "text": [
      "Sub-fields in AI are:\n",
      "Machine Learning\n",
      "Neural Networks\n",
      "Vision\n",
      "Robotics\n",
      "Speech Processing\n",
      "Natural Language Processing\n"
     ]
    }
   ],
   "source": [
    "Subfields()"
   ]
  },
  {
   "cell_type": "markdown",
   "id": "90497714",
   "metadata": {},
   "source": [
    "#Create a function that check whether the given number is odd or Even"
   ]
  },
  {
   "cell_type": "code",
   "execution_count": 10,
   "id": "405525a5",
   "metadata": {},
   "outputs": [],
   "source": [
    "def oddOrEven():\n",
    "    value = int(input(\"Enter a number: \"))\n",
    "    if(value % 2 == 1):\n",
    "        print(value, \"is odd number\")\n",
    "    else:\n",
    "        print(value, \"is Even number\")"
   ]
  },
  {
   "cell_type": "code",
   "execution_count": 11,
   "id": "f5417426",
   "metadata": {},
   "outputs": [
    {
     "name": "stdout",
     "output_type": "stream",
     "text": [
      "Enter a number: 52452\n",
      "52452 is Even number\n"
     ]
    }
   ],
   "source": [
    "oddOrEven()"
   ]
  },
  {
   "cell_type": "markdown",
   "id": "e74ecdf6",
   "metadata": {},
   "source": [
    "#Create a function that tells elegibility of marriage for male and female according to their age limit like 21 for male and 18 for female"
   ]
  },
  {
   "cell_type": "code",
   "execution_count": 12,
   "id": "55f4c6de",
   "metadata": {},
   "outputs": [],
   "source": [
    "def Elegible():\n",
    "    gender = input(\"Your Gender: \")\n",
    "    age = int(input(\"Your Age: \"))\n",
    "    if(gender == \"Male\" and age >= 21):\n",
    "        eligible = \"Your ELIGIBLE\"\n",
    "    elif(gender == \"Female\" and age >=18):\n",
    "        eligible = \"Your ELIGIBLE\"\n",
    "    else:\n",
    "        eligible = \"NOT ELIGIBLE\"\n",
    "    return eligible"
   ]
  },
  {
   "cell_type": "code",
   "execution_count": 13,
   "id": "e3ea142d",
   "metadata": {},
   "outputs": [
    {
     "name": "stdout",
     "output_type": "stream",
     "text": [
      "Your Gender: Male\n",
      "Your Age: 20\n",
      "NOT ELIGIBLE\n"
     ]
    }
   ],
   "source": [
    "eligible = Elegible()\n",
    "print(eligible)"
   ]
  },
  {
   "cell_type": "markdown",
   "id": "de9e3fb0",
   "metadata": {},
   "source": [
    "#Calculate the percentage of your 10th Mark"
   ]
  },
  {
   "cell_type": "code",
   "execution_count": 14,
   "id": "8210ba74",
   "metadata": {},
   "outputs": [],
   "source": [
    "def percentage():\n",
    "    sub1 = int(input(\"Subject1= \"))\n",
    "    sub2 = int(input(\"Subject2= \"))\n",
    "    sub3 = int(input(\"Subject3= \"))\n",
    "    sub4 = int(input(\"Subject4= \"))\n",
    "    sub5 = int(input(\"Subject5= \"))\n",
    "    total = sub1 + sub2 + sub3 + sub4 + sub5\n",
    "    print(\"Total: \", total)\n",
    "    percentage = ((total/500)*100)\n",
    "    print(\"Percentage: \", percentage)"
   ]
  },
  {
   "cell_type": "code",
   "execution_count": 15,
   "id": "7ca9240b",
   "metadata": {},
   "outputs": [
    {
     "name": "stdout",
     "output_type": "stream",
     "text": [
      "Subject1= 98\n",
      "Subject2= 87\n",
      "Subject3= 95\n",
      "Subject4= 95\n",
      "Subject5= 93\n",
      "Total:  468\n",
      "Percentage:  93.60000000000001\n"
     ]
    }
   ],
   "source": [
    "percentage()"
   ]
  },
  {
   "cell_type": "markdown",
   "id": "eacda66c",
   "metadata": {},
   "source": [
    "#Print area and perimeter of triangle using functions"
   ]
  },
  {
   "cell_type": "code",
   "execution_count": 5,
   "id": "e33770d9",
   "metadata": {},
   "outputs": [],
   "source": [
    "def triangle():\n",
    "    height = int(input(\"Height: \"))\n",
    "    breadth = int(input(\"Breadth: \"))\n",
    "    print(\"Area formula: Breadth*Height*0.5\")\n",
    "    area = breadth * height* 0.5\n",
    "    print(\"Area of Triangle is:\", area)\n",
    "        \n",
    "    h1 = int(input(\"Height1= \"))\n",
    "    h2 = int(input(\"Height2= \"))\n",
    "    breadth1 = int(input(\"Breadth= \"))\n",
    "    print(\"perimeter formula: Height1+ Height2 + Breadth\")\n",
    "    perimeter = h1 + h2 + breadth1\n",
    "    print(\"Perimeter of Triangle: \", perimeter)"
   ]
  },
  {
   "cell_type": "code",
   "execution_count": 6,
   "id": "741e4c08",
   "metadata": {},
   "outputs": [
    {
     "name": "stdout",
     "output_type": "stream",
     "text": [
      "Height: 32\n",
      "Breadth: 34\n",
      "Area formula: (Height*Breadth)/2\n",
      "Area of Triangle is: 544.0\n",
      "Height1= 2\n",
      "Height2= 4\n",
      "Breadth= 4\n",
      "perimeter formula: Height1+ Height2 + Breadth\n",
      "Perimeter of Triangle:  10\n"
     ]
    }
   ],
   "source": [
    "triangle()"
   ]
  },
  {
   "cell_type": "code",
   "execution_count": null,
   "id": "6747a842",
   "metadata": {},
   "outputs": [],
   "source": []
  }
 ],
 "metadata": {
  "kernelspec": {
   "display_name": "Python 3 (ipykernel)",
   "language": "python",
   "name": "python3"
  },
  "language_info": {
   "codemirror_mode": {
    "name": "ipython",
    "version": 3
   },
   "file_extension": ".py",
   "mimetype": "text/x-python",
   "name": "python",
   "nbconvert_exporter": "python",
   "pygments_lexer": "ipython3",
   "version": "3.10.9"
  }
 },
 "nbformat": 4,
 "nbformat_minor": 5
}
