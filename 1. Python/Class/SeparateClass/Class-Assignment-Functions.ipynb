{
 "cells": [
  {
   "cell_type": "markdown",
   "id": "bb3d77e6",
   "metadata": {},
   "source": [
    "#Create a class and function and list out the items in the list"
   ]
  },
  {
   "cell_type": "code",
   "execution_count": 1,
   "id": "4907dc06",
   "metadata": {},
   "outputs": [],
   "source": [
    "from ClassFunctions import ClassFunctions"
   ]
  },
  {
   "cell_type": "code",
   "execution_count": 2,
   "id": "38e9b880",
   "metadata": {
    "scrolled": true
   },
   "outputs": [
    {
     "name": "stdout",
     "output_type": "stream",
     "text": [
      "Sub-fields in AI are:\n",
      "Machine Learning\n",
      "Neural Networks\n",
      "Vision\n",
      "Robotics\n",
      "Speech Processing\n",
      "Natural Language Processing\n"
     ]
    }
   ],
   "source": [
    "ClassFunctions.Subfields()"
   ]
  },
  {
   "cell_type": "markdown",
   "id": "462747a2",
   "metadata": {},
   "source": [
    "#Create a function that checks wheather the given number is odd or Even"
   ]
  },
  {
   "cell_type": "code",
   "execution_count": 3,
   "id": "cd688a18",
   "metadata": {},
   "outputs": [
    {
     "name": "stdout",
     "output_type": "stream",
     "text": [
      "Enter a number: 34566\n",
      "34566 is Even number\n"
     ]
    }
   ],
   "source": [
    "ClassFunctions.oddOrEven()"
   ]
  },
  {
   "cell_type": "markdown",
   "id": "caf1e690",
   "metadata": {},
   "source": [
    "#Create a function that tells elegibility of marriage for male and female according to their age limit like 21 for male and 18 for female"
   ]
  },
  {
   "cell_type": "code",
   "execution_count": 4,
   "id": "d862a3e1",
   "metadata": {},
   "outputs": [
    {
     "name": "stdout",
     "output_type": "stream",
     "text": [
      "Your Gender: Male\n",
      "Your Age: 20\n",
      "NOT ELIGIBLE\n"
     ]
    }
   ],
   "source": [
    "elegible = ClassFunctions.Elegible()\n",
    "print(elegible)"
   ]
  },
  {
   "cell_type": "markdown",
   "id": "316eec60",
   "metadata": {},
   "source": [
    "#Calculate the percentage of your 10th mark"
   ]
  },
  {
   "cell_type": "code",
   "execution_count": 5,
   "id": "a04d049f",
   "metadata": {},
   "outputs": [
    {
     "name": "stdout",
     "output_type": "stream",
     "text": [
      "Subject1= 89\n",
      "Subject2= 95\n",
      "Subject3= 95\n",
      "Subject4= 93\n",
      "Subject5= 98\n",
      "Total:  470\n",
      "Percentage:  94.0\n"
     ]
    }
   ],
   "source": [
    "ClassFunctions.percentage()"
   ]
  },
  {
   "cell_type": "markdown",
   "id": "99611acf",
   "metadata": {},
   "source": [
    "#Print area and perimeter of triangle using class and functions"
   ]
  },
  {
   "cell_type": "code",
   "execution_count": 6,
   "id": "e3c00bad",
   "metadata": {},
   "outputs": [
    {
     "name": "stdout",
     "output_type": "stream",
     "text": [
      "Height: 32\n",
      "Breadth: 34\n",
      "Area formula: Breadth*Height*0.5\n",
      "Area of Triangle is: 544.0\n",
      "Height1= 2\n",
      "Height2= 4\n",
      "Breadth= 4\n",
      "perimeter formula: Height1+ Height2 + Breadth\n",
      "Perimeter of Triangle:  10\n"
     ]
    }
   ],
   "source": [
    "ClassFunctions.triangle()"
   ]
  },
  {
   "cell_type": "code",
   "execution_count": null,
   "id": "b6a8799e",
   "metadata": {},
   "outputs": [],
   "source": []
  }
 ],
 "metadata": {
  "kernelspec": {
   "display_name": "Python 3 (ipykernel)",
   "language": "python",
   "name": "python3"
  },
  "language_info": {
   "codemirror_mode": {
    "name": "ipython",
    "version": 3
   },
   "file_extension": ".py",
   "mimetype": "text/x-python",
   "name": "python",
   "nbconvert_exporter": "python",
   "pygments_lexer": "ipython3",
   "version": "3.10.9"
  }
 },
 "nbformat": 4,
 "nbformat_minor": 5
}
