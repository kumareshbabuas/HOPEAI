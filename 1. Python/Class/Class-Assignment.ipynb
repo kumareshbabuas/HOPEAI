{
 "cells": [
  {
   "cell_type": "markdown",
   "id": "bb3d77e6",
   "metadata": {},
   "source": [
    "#Create a class and function and list out the items in the list"
   ]
  },
  {
   "cell_type": "code",
   "execution_count": 1,
   "id": "4907dc06",
   "metadata": {},
   "outputs": [],
   "source": [
    "from AIFields import SubfieldsInAI"
   ]
  },
  {
   "cell_type": "code",
   "execution_count": 2,
   "id": "38e9b880",
   "metadata": {},
   "outputs": [
    {
     "name": "stdout",
     "output_type": "stream",
     "text": [
      "Sub-fields in AI are:\n",
      "Machine Learning\n",
      "Neural Networks\n",
      "Vision\n",
      "Robotics\n",
      "Speech Processing\n",
      "Natural Language Processing\n"
     ]
    }
   ],
   "source": [
    "SubfieldsInAI.Subfields()"
   ]
  },
  {
   "cell_type": "markdown",
   "id": "462747a2",
   "metadata": {},
   "source": [
    "#Create a function that checks wheather the given number is odd or Even"
   ]
  },
  {
   "cell_type": "code",
   "execution_count": 3,
   "id": "523df61f",
   "metadata": {},
   "outputs": [],
   "source": [
    "from oddEvenNumbers import OddEven"
   ]
  },
  {
   "cell_type": "code",
   "execution_count": 4,
   "id": "cd688a18",
   "metadata": {},
   "outputs": [
    {
     "name": "stdout",
     "output_type": "stream",
     "text": [
      "Enter a number: 443434\n",
      "443434 is Even number\n"
     ]
    }
   ],
   "source": [
    "OddEven.oddOrEven()"
   ]
  },
  {
   "cell_type": "markdown",
   "id": "caf1e690",
   "metadata": {},
   "source": [
    "#Create a function that tells elegibility of marriage for male and female according to their age limit like 21 for male and 18 for female"
   ]
  },
  {
   "cell_type": "code",
   "execution_count": 5,
   "id": "5007ab90",
   "metadata": {},
   "outputs": [],
   "source": [
    "from MarriageElegibility import ElegibilityForMarriage"
   ]
  },
  {
   "cell_type": "code",
   "execution_count": 8,
   "id": "d862a3e1",
   "metadata": {},
   "outputs": [
    {
     "name": "stdout",
     "output_type": "stream",
     "text": [
      "Your Gender: Male\n",
      "Your Age: 20\n",
      "NOT ELIGIBLE\n"
     ]
    }
   ],
   "source": [
    "elegible = ElegibilityForMarriage.Elegible()\n",
    "print(elegible)"
   ]
  },
  {
   "cell_type": "markdown",
   "id": "316eec60",
   "metadata": {},
   "source": [
    "#Calculate the percentage of your 10th mark"
   ]
  },
  {
   "cell_type": "code",
   "execution_count": 9,
   "id": "8a91cc57",
   "metadata": {},
   "outputs": [],
   "source": [
    "from PercentageCal import FindPercent"
   ]
  },
  {
   "cell_type": "code",
   "execution_count": 10,
   "id": "a04d049f",
   "metadata": {},
   "outputs": [
    {
     "name": "stdout",
     "output_type": "stream",
     "text": [
      "Subject1= 98\n",
      "Subject2= 87\n",
      "Subject3= 95\n",
      "Subject4= 95\n",
      "Subject5= 93\n",
      "Total:  468\n",
      "Percentage:  93.60000000000001\n"
     ]
    }
   ],
   "source": [
    "FindPercent.percentage()"
   ]
  },
  {
   "cell_type": "markdown",
   "id": "99611acf",
   "metadata": {},
   "source": [
    "#Print area and perimeter of triangle using class and functions"
   ]
  },
  {
   "cell_type": "code",
   "execution_count": 11,
   "id": "3e05065a",
   "metadata": {},
   "outputs": [],
   "source": [
    "from Triangle import Triangle"
   ]
  },
  {
   "cell_type": "code",
   "execution_count": 12,
   "id": "e3c00bad",
   "metadata": {},
   "outputs": [
    {
     "name": "stdout",
     "output_type": "stream",
     "text": [
      "Height: 32\n",
      "Breadth: 34\n",
      "Area formula: Breadth*Height*0.5\n",
      "Area of Triangle is: 544.0\n",
      "Height1= 2\n",
      "Height2= 4\n",
      "Breadth= 4\n",
      "perimeter formula: Height1+ Height2 + Breadth\n",
      "Perimeter of Triangle:  10\n"
     ]
    }
   ],
   "source": [
    "Triangle.triangle()"
   ]
  },
  {
   "cell_type": "code",
   "execution_count": null,
   "id": "b6a8799e",
   "metadata": {},
   "outputs": [],
   "source": []
  }
 ],
 "metadata": {
  "kernelspec": {
   "display_name": "Python 3 (ipykernel)",
   "language": "python",
   "name": "python3"
  },
  "language_info": {
   "codemirror_mode": {
    "name": "ipython",
    "version": 3
   },
   "file_extension": ".py",
   "mimetype": "text/x-python",
   "name": "python",
   "nbconvert_exporter": "python",
   "pygments_lexer": "ipython3",
   "version": "3.10.9"
  }
 },
 "nbformat": 4,
 "nbformat_minor": 5
}
